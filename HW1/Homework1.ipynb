{
 "cells": [
  {
   "cell_type": "code",
   "execution_count": 1,
   "id": "d1deda04",
   "metadata": {},
   "outputs": [],
   "source": [
    "import numpy as np\n",
    "import matplotlib\n",
    "import matplotlib.pyplot as plt\n",
    "from matplotlib import cm\n",
    "from matplotlib.ticker import LinearLocator\n",
    "from mpl_toolkits.mplot3d import Axes3D\n",
    "import gzip\n",
    "from sklearn.preprocessing import OneHotEncoder\n",
    "from scipy.special import expit\n",
    "import celluloid\n",
    "from celluloid import Camera\n",
    "from matplotlib import animation\n",
    "from IPython.display import HTML\n",
    "from matplotlib.lines import Line2D\n",
    "\n",
    "np.random.seed(2021)\n",
    "\n",
    "def gradient_descent(xinit,steps,gradient):\n",
    "    \"\"\"Run gradient descent.\n",
    "    Return an array with the rows as the iterates.\n",
    "    \"\"\"\n",
    "    xs = [xinit]\n",
    "    x = xinit\n",
    "    for step in steps:\n",
    "        x = x - step*gradient(x)\n",
    "        xs.append(x)\n",
    "    return np.array(xs)\n",
    "\n",
    "def nagd(winit,gradient,eta=0.1,nsteps=100):\n",
    "    \"\"\"Run Nesterov's accelrated graident descent.\n",
    "    Return an array with the rows as the iterates.\n",
    "    \"\"\"\n",
    "    ws = [winit]\n",
    "    u = v = w = winit    \n",
    "    for i in range(nsteps):\n",
    "        etai = (i+1)*eta/2\n",
    "        alphai = 2/(i+3)\n",
    "        w = v - eta*gradient(v)\n",
    "        u = u - etai*gradient(v)\n",
    "        v = alphai*u + (1-alphai)*w\n",
    "        ws.append(w)\n",
    "    return np.array(ws)\n",
    "\n",
    "def animated_lplot(Ys,title,labels=['1','2','3','4','5','6'],ylabel='Function value', xlabel='Iteration', name='animation.gif'):\n",
    "    \"\"\"Animated line plot of the Y values.\n",
    "    Ys is a list where each element is an array of numbers to plot.\n",
    "    \"\"\"\n",
    "    colors = ['blue','red','green','black','cyan','purple','pink']\n",
    "    fig, ax = plt.subplots(figsize=(6,6))\n",
    "    camera = Camera(fig)\n",
    "    T = len(Ys[0])\n",
    "    plt.yscale('log')\n",
    "    for t in range(T):\n",
    "        for j in range(len(Ys)):\n",
    "            plt.plot(range(t),Ys[j][:t],color=colors[j],marker='o')\n",
    "        camera.snap()\n",
    "    handles = []\n",
    "    for i in range(len(Ys)):\n",
    "        handles.append(Line2D([0], [0], color=colors[i], label=labels[i]))\n",
    "    plt.legend(handles = handles, loc = 'upper right')\n",
    "    plt.title(title)\n",
    "    plt.ylabel(ylabel)\n",
    "    plt.xlabel(xlabel)\n",
    "    animation = camera.animate(interval=100,blit=False)\n",
    "    plt.close()\n",
    "    animation.save(name, writer='PillowWriter', fps=10)\n",
    "    return animation\n",
    "\n",
    "def sigmoid(x):\n",
    "    return 1/(1 + np.exp(-x))\n",
    "\n",
    "def generate_logistic(n,d):\n",
    "    \"\"\"Generate a dataset under the logistic model (see Assignment 1).\n",
    "    \"\"\"\n",
    "    X = np.random.randn(n,d)\n",
    "    wstar = np.random.randn(d,1)\n",
    "    wstar = wstar/np.linalg.norm(wstar)\n",
    "\n",
    "    preds = sigmoid(np.dot(X,wstar))\n",
    "    y = np.ones((n,1))\n",
    "    y[preds > np.random.rand(n,1)] = 0\n",
    "    return (X,y,wstar)\n",
    "\n",
    "def generate_lsr(n,d):\n",
    "    X = np.random.normal(0, 1, (n, d))\n",
    "    wstar = np.random.normal(0, 1, d)\n",
    "    noise = np.random.normal(0, 0.1, n)\n",
    "    y = X.dot(wstar) + noise\n",
    "    return(X,y,wstar)"
   ]
  },
  {
   "cell_type": "code",
   "execution_count": 2,
   "id": "0eac1aeb",
   "metadata": {},
   "outputs": [],
   "source": [
    "# TODO: write the correct functions\n",
    "def lr_cost(X,y,w):\n",
    "    n,d = X.shape\n",
    "    return (1/n)*sum(-y*np.log(sigmoid(X.dot(w)))-((1-y)*np.log(1-sigmoid(X.dot(w)))))\n",
    "\n",
    "def lr_gradient(X,y,w):\n",
    "    n,d = X.shape\n",
    "    return (1/n) * X.T.dot(sigmoid(X.dot(w))-y)\n",
    "\n",
    "\n",
    "# # for lsr\n",
    "def lsr_cost(A, b, x):\n",
    "    \"\"\"Least squares objective.\"\"\"\n",
    "    return (0.5/n) * np.linalg.norm(A.dot(x)-b)**2\n",
    "\n",
    "def lsr_gradient(A, b, x):\n",
    "    \"\"\"Gradient of least squares objective at x.\"\"\"\n",
    "    return A.T.dot(A.dot(x)-b)/n"
   ]
  },
  {
   "cell_type": "code",
   "execution_count": 3,
   "id": "96e09da8",
   "metadata": {},
   "outputs": [],
   "source": [
    "# generating dataset\n",
    "n,d = 1000, 20\n",
    "dataset = generate_logistic(n,d)"
   ]
  },
  {
   "cell_type": "code",
   "execution_count": 4,
   "id": "112f9661",
   "metadata": {},
   "outputs": [],
   "source": [
    "# use step sizes 0.01, 0.05, 0.1 for 350 iterations\n",
    "X = dataset[0]\n",
    "y = dataset[1].flatten()\n",
    "\n",
    "objective = lambda w: lr_cost(X, y, w)\n",
    "gradient = lambda w: lr_gradient(X, y, w)\n",
    "\n",
    "w0 = np.random.normal(0, 1, d)"
   ]
  },
  {
   "cell_type": "code",
   "execution_count": 5,
   "id": "eb155a8c",
   "metadata": {},
   "outputs": [],
   "source": [
    "gd_1 = gradient_descent(w0, [0.025]*350, gradient)\n",
    "nagd_1 = nagd(w0,gradient,0.01,350)\n",
    "\n",
    "gd_2 = gradient_descent(w0, [0.05]*350, gradient)\n",
    "nagd_2 = nagd(w0,gradient,0.05,350)\n",
    "\n",
    "gd_3 = gradient_descent(w0, [0.075]*350, gradient)\n",
    "nagd_3 = nagd(w0,gradient,0.1,350)"
   ]
  },
  {
   "cell_type": "code",
   "execution_count": 6,
   "id": "7f8d502c",
   "metadata": {},
   "outputs": [
    {
     "name": "stderr",
     "output_type": "stream",
     "text": [
      "MovieWriter PillowWriter unavailable; using Pillow instead.\n",
      "MovieWriter PillowWriter unavailable; using Pillow instead.\n",
      "MovieWriter PillowWriter unavailable; using Pillow instead.\n",
      "MovieWriter PillowWriter unavailable; using Pillow instead.\n",
      "MovieWriter PillowWriter unavailable; using Pillow instead.\n",
      "MovieWriter PillowWriter unavailable; using Pillow instead.\n"
     ]
    },
    {
     "data": {
      "text/plain": [
       "<matplotlib.animation.ArtistAnimation at 0x16ba2a310>"
      ]
     },
     "execution_count": 6,
     "metadata": {},
     "output_type": "execute_result"
    }
   ],
   "source": [
    "animated_lplot(Ys=[[objective(w) for w in gd_1],[objective(w) for w in nagd_1]],labels=['GD','NAGD'], \\\n",
    "               title='Function value vs Iteration, Step Size=0.025', name='gd_1_fVal.gif')\n",
    "animated_lplot(Ys=[[np.linalg.norm(dataset[2]-w) for w in gd_1],[np.linalg.norm(dataset[2]-w) for w in nagd_1]],\\\n",
    "               labels=['GD','NAGD'], ylabel=\"Distance\", title='w* Distance vs Iteration, Step Size=0.025', \\\n",
    "               name='gd_1_w.gif')\n",
    "\n",
    "animated_lplot(Ys=[[objective(w) for w in gd_2],[objective(w) for w in nagd_2]],labels=['GD','NAGD'], \\\n",
    "               title='Function value vs Iteration, Step Size=0.05', name='gd_2_fVal.gif')\n",
    "animated_lplot(Ys=[[np.linalg.norm(dataset[2]-w) for w in gd_2],[np.linalg.norm(dataset[2]-w) for w in nagd_2]],\\\n",
    "               labels=['GD','NAGD'], ylabel=\"Distance\", title='w* Distance vs Iteration, Step Size=0.05', \\\n",
    "               name='gd_2_w.gif')\n",
    "\n",
    "animated_lplot(Ys=[[objective(w) for w in gd_3],[objective(w) for w in nagd_3]],labels=['GD','NAGD'], \\\n",
    "               title='Function value vs Iteration, Step Size=0.075', name='gd_3_fVal.gif')\n",
    "animated_lplot(Ys=[[np.linalg.norm(dataset[2]-w) for w in gd_3],[np.linalg.norm(dataset[2]-w) for w in nagd_3]],\\\n",
    "               labels=['GD','NAGD'], ylabel=\"Distance\", title='w* Distance vs Iteration, Step Size=0.075', \\\n",
    "               name='gd_3_w.gif')\n",
    "\n"
   ]
  },
  {
   "cell_type": "code",
   "execution_count": 7,
   "id": "8bc52d5b",
   "metadata": {},
   "outputs": [
    {
     "name": "stderr",
     "output_type": "stream",
     "text": [
      "MovieWriter PillowWriter unavailable; using Pillow instead.\n",
      "MovieWriter PillowWriter unavailable; using Pillow instead.\n"
     ]
    },
    {
     "data": {
      "text/plain": [
       "<matplotlib.animation.ArtistAnimation at 0x16b5d9f10>"
      ]
     },
     "execution_count": 7,
     "metadata": {},
     "output_type": "execute_result"
    }
   ],
   "source": [
    "animated_lplot(Ys=[[objective(w) for w in gd_1],[objective(w) for w in gd_2],[objective(w) for w in gd_3],\\\n",
    "                   [objective(w) for w in nagd_1],[objective(w) for w in nagd_2],[objective(w) for w in nagd_3]],\\\n",
    "               labels=['GD; Step=0.025','GD; Step=0.05','GD; Step=0.075','NAGD; Step=0.025','NAGD; Step=0.05',\\\n",
    "                       'NAGD; Step=0.075'], title='Function value vs Iteration', name='All_fVal.gif')\n",
    "\n",
    "animated_lplot(Ys=[[np.linalg.norm(dataset[2]-w) for w in gd_1],[np.linalg.norm(dataset[2]-w) for w in gd_2],\\\n",
    "                   [np.linalg.norm(dataset[2]-w) for w in gd_3],[np.linalg.norm(dataset[2]-w) for w in nagd_1],\\\n",
    "                   [np.linalg.norm(dataset[2]-w) for w in nagd_2],[np.linalg.norm(dataset[2]-w) for w in nagd_3]],\\\n",
    "               labels=['GD; Step=0.025','GD; Step=0.05','GD; Step=0.075','NAGD; Step=0.025','NAGD; Step=0.05',\\\n",
    "                       'NAGD; Step=0.075'], ylabel=\"Distance\", title='w* Distance vs Iteration', name='All_w.gif')\n"
   ]
  },
  {
   "cell_type": "code",
   "execution_count": 8,
   "id": "29911aac",
   "metadata": {},
   "outputs": [
    {
     "name": "stderr",
     "output_type": "stream",
     "text": [
      "MovieWriter PillowWriter unavailable; using Pillow instead.\n",
      "MovieWriter PillowWriter unavailable; using Pillow instead.\n",
      "MovieWriter PillowWriter unavailable; using Pillow instead.\n",
      "MovieWriter PillowWriter unavailable; using Pillow instead.\n"
     ]
    },
    {
     "data": {
      "text/plain": [
       "<matplotlib.animation.ArtistAnimation at 0x2944076d0>"
      ]
     },
     "execution_count": 8,
     "metadata": {},
     "output_type": "execute_result"
    }
   ],
   "source": [
    "animated_lplot(Ys=[[objective(w) for w in gd_1],[objective(w) for w in gd_2],[objective(w) for w in gd_3]],\\\n",
    "               labels=['GD; Step=0.025','GD; Step=0.05','GD; Step=0.075'], title='Function value vs Iteration, GD', \\\n",
    "               name='gd_All_fVal.gif')\n",
    "\n",
    "animated_lplot(Ys=[[objective(w) for w in nagd_1],[objective(w) for w in nagd_2],[objective(w) for w in nagd_3]],\\\n",
    "               labels=['NAGD; Step=0.025','NAGD; Step=0.05','NAGD; Step=0.075'], \\\n",
    "               title='Function value vs Iteration, NAGD', name='nagd_All_fVal.gif')\n",
    "\n",
    "animated_lplot(Ys=[[np.linalg.norm(dataset[2]-w) for w in gd_1],[np.linalg.norm(dataset[2]-w) for w in gd_2],\\\n",
    "                   [np.linalg.norm(dataset[2]-w) for w in gd_3]],labels=['GD; Step=0.025','GD; Step=0.05',\\\n",
    "                                                                         'GD; Step=0.075'], ylabel=\"Distance\", \\\n",
    "               title='w* Distance vs Iteration, GD', name='gd_All_w.gif')\n",
    "\n",
    "animated_lplot(Ys=[[np.linalg.norm(dataset[2]-w) for w in nagd_1],[np.linalg.norm(dataset[2]-w) for w in nagd_2],\\\n",
    "                   [np.linalg.norm(dataset[2]-w) for w in nagd_3]],labels=['NAGD; Step=0.025','NAGD; Step=0.05',\\\n",
    "                                                                           'NAGD; Step=0.075'], ylabel=\"Distance\", \\\n",
    "               title='w* Distance vs Iteration, NAGD', name='nagd_All_w.gif')\n"
   ]
  },
  {
   "cell_type": "code",
   "execution_count": null,
   "id": "1158b2fe",
   "metadata": {},
   "outputs": [],
   "source": []
  }
 ],
 "metadata": {
  "kernelspec": {
   "display_name": "Python 3 (ipykernel)",
   "language": "python",
   "name": "python3"
  },
  "language_info": {
   "codemirror_mode": {
    "name": "ipython",
    "version": 3
   },
   "file_extension": ".py",
   "mimetype": "text/x-python",
   "name": "python",
   "nbconvert_exporter": "python",
   "pygments_lexer": "ipython3",
   "version": "3.9.7"
  }
 },
 "nbformat": 4,
 "nbformat_minor": 5
}
