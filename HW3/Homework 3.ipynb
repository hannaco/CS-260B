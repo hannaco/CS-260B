{
 "cells": [
  {
   "cell_type": "code",
   "execution_count": 1,
   "id": "588e2726",
   "metadata": {},
   "outputs": [],
   "source": [
    "import numpy as np\n",
    "import scipy as scipy\n",
    "from scipy.sparse import random\n",
    "from scipy.sparse.linalg import svds\n",
    "from timeit import default_timer as timer\n",
    "from tabulate import tabulate\n",
    "import matplotlib.pyplot as plt\n",
    "from matplotlib.lines import Line2D\n"
   ]
  },
  {
   "cell_type": "code",
   "execution_count": 2,
   "id": "209b1252",
   "metadata": {},
   "outputs": [],
   "source": [
    "def lplot(Ys,labels=['1','2','3','4','5','6'],ylabel='Function value'):\n",
    "    \"\"\"Line plot of the Y values. (Same as above, but no animation).\n",
    "    Ys is a list where each element is an array of numbers to plot.\n",
    "    \"\"\"\n",
    "    colors = ['blue','red','green','black','cyan','purple','pink']\n",
    "    fig, ax = plt.subplots(figsize=(6,6))\n",
    "    T = len(Ys[0])\n",
    "    plt.yscale('log')\n",
    "    handles = []\n",
    "    for i in range(len(Ys)):\n",
    "        handles.append(Line2D([0], [0], color=colors[i], label=labels[i]))\n",
    "    plt.legend(handles = handles, loc = 'upper right')\n",
    "    plt.xlabel('Iterations')\n",
    "    plt.ylabel(ylabel)\n",
    "    plt.title('Iterations vs Error')\n",
    "    for j in range(len(Ys)):\n",
    "        plt.plot(range(T),Ys[j][:T],color=colors[j],marker='o')\n",
    "\n",
    "np.random.seed(2021)"
   ]
  },
  {
   "cell_type": "code",
   "execution_count": 3,
   "id": "539f0faa",
   "metadata": {},
   "outputs": [],
   "source": [
    "# loss function\n",
    "def cost(X,Y,O):\n",
    "    return np.linalg.norm(np.multiply(X-Y, O),'fro')**2\n",
    "    \n",
    "# gradient of loss function\n",
    "def loss_gradient(X,Y,O):\n",
    "    return np.multiply(-2*(X-Y),O)\n",
    "  \n",
    "# parameters and generating O and X\n",
    "n = 1000\n",
    "d = 500\n",
    "p = 0.1\n",
    "R = np.random.rand(n,d)\n",
    "O = np.zeros((n,d))\n",
    "O[R < p] = 1\n",
    "# print(O)\n",
    "\n",
    "k = 5\n",
    "U = np.random.normal(0,1,(n,k))\n",
    "V = np.random.normal(0,1,(d,k))\n",
    "X = np.matmul(U,np.transpose(V))\n",
    "# print(X)"
   ]
  },
  {
   "cell_type": "code",
   "execution_count": 4,
   "id": "34c416c0",
   "metadata": {},
   "outputs": [],
   "source": [
    "# function for singular value projection\n",
    "# compute and plot the losses for X0, X1,...,XT\n",
    "# use output of svd function to put together XT\n",
    "# O is the matrix that tells us what values of Y we know, and Y is our approximation\n",
    "\n",
    "def svp(step, X, T):\n",
    "    X_0 = np.random.normal(0,1,(n,d))\n",
    "    approximations = [X_0]\n",
    "    error = [cost(X,X_0,O)]\n",
    "    for t in range(T):\n",
    "        Y_t = approximations[t]-(step*loss_gradient(X, approximations[t], O))\n",
    "        u,s,v = scipy.sparse.linalg.svds(Y_t, k = 5)\n",
    "        X_t = u @ np.diag(s) @ v\n",
    "        approximations.append(X_t)\n",
    "        error.append(cost(X,X_t,O))\n",
    "    return [approximations, error]\n"
   ]
  },
  {
   "cell_type": "code",
   "execution_count": 5,
   "id": "33d1568f",
   "metadata": {},
   "outputs": [],
   "source": [
    "svp_1 = svp(0.1,X,150)\n",
    "svp_2 = svp(0.25,X,150)\n",
    "svp_3 = svp(0.5,X,150)"
   ]
  },
  {
   "cell_type": "code",
   "execution_count": 6,
   "id": "75f7ea2f",
   "metadata": {},
   "outputs": [
    {
     "data": {
      "image/png": "[encoded data removed]",
      "text/plain": [
       "<Figure size 432x432 with 1 Axes>"
      ]
     },
     "metadata": {
      "needs_background": "light"
     },
     "output_type": "display_data"
    }
   ],
   "source": [
    "four_labels = [\"Step=0.1\", \"Step=0.25\", \"Step=0.5\"]\n",
    "cost_func = [svp_1[1],svp_2[1],svp_3[1]]\n",
    "lplot(cost_func,four_labels,'SVP Cost')"
   ]
  },
  {
   "cell_type": "code",
   "execution_count": 7,
   "id": "4a57145d",
   "metadata": {},
   "outputs": [],
   "source": [
    "n = 10000\n",
    "k = 20\n",
    "p = 0.01\n",
    "\n",
    "def power_iteration(U,Ut,G,v0,T):\n",
    "    vs = [v0]\n",
    "    v = v0\n",
    "    for i in range(T):\n",
    "        u = Ut.dot(v)\n",
    "        u = U.dot(u)\n",
    "        g = G.dot(v)\n",
    "        v = (u+g)/np.linalg.norm(u+g)\n",
    "        vs.append(v)\n",
    "    return np.array(vs)\n",
    "\n",
    "G = random(n, n, density=p)\n",
    "U = np.random.rand(n, k)\n",
    "U_transpose = U.transpose()\n",
    "Z = np.dot(U,U_transpose) + G.A\n"
   ]
  },
  {
   "cell_type": "code",
   "execution_count": 8,
   "id": "e28e26d1",
   "metadata": {},
   "outputs": [],
   "source": [
    "v0 = np.random.normal(0,1,(n,1))\n",
    "v0 = v0/np.linalg.norm(v0)\n",
    "\n",
    "func = 0\n",
    "func_times = []\n",
    "for x in range(10):\n",
    "    start = timer()\n",
    "    utrue,strue,vtrue = svds(Z,k=1)\n",
    "    end = timer()\n",
    "    func += (end-start)\n",
    "    \n",
    "func /= 10\n",
    "arr = np.full(10,func)\n",
    "func_times = [str(round(f, 4)) + \"s\" for f in arr]\n",
    "\n",
    "our_times = []\n",
    "pi_output = []\n",
    "for t in range(10, 110, 10):\n",
    "    power = 0\n",
    "    for x in range(10):\n",
    "        start = timer()\n",
    "        pi = power_iteration(U,U_transpose,G.A,v0,t)\n",
    "        end = timer()\n",
    "        power += (end-start)\n",
    "    power /= 10\n",
    "    pi_output.append(pi)\n",
    "    our_times.append(str(round(power, 4)) + \"s\")\n",
    "\n"
   ]
  },
  {
   "cell_type": "code",
   "execution_count": 9,
   "id": "68d8ea68",
   "metadata": {},
   "outputs": [
    {
     "name": "stdout",
     "output_type": "stream",
     "text": [
      "╒══════════════╤════════════╤═══════════════════╕\n",
      "│   Iterations │ Built-In   │ Power Iteration   │\n",
      "╞══════════════╪════════════╪═══════════════════╡\n",
      "│           10 │ 1.0004s    │ 0.3957s           │\n",
      "├──────────────┼────────────┼───────────────────┤\n",
      "│           20 │ 1.0004s    │ 0.4955s           │\n",
      "├──────────────┼────────────┼───────────────────┤\n",
      "│           30 │ 1.0004s    │ 0.5814s           │\n",
      "├──────────────┼────────────┼───────────────────┤\n",
      "│           40 │ 1.0004s    │ 0.7139s           │\n",
      "├──────────────┼────────────┼───────────────────┤\n",
      "│           50 │ 1.0004s    │ 0.8492s           │\n",
      "├──────────────┼────────────┼───────────────────┤\n",
      "│           60 │ 1.0004s    │ 1.0208s           │\n",
      "├──────────────┼────────────┼───────────────────┤\n",
      "│           70 │ 1.0004s    │ 1.391s            │\n",
      "├──────────────┼────────────┼───────────────────┤\n",
      "│           80 │ 1.0004s    │ 1.5173s           │\n",
      "├──────────────┼────────────┼───────────────────┤\n",
      "│           90 │ 1.0004s    │ 1.7037s           │\n",
      "├──────────────┼────────────┼───────────────────┤\n",
      "│          100 │ 1.0004s    │ 1.8656s           │\n",
      "╘══════════════╧════════════╧═══════════════════╛\n"
     ]
    }
   ],
   "source": [
    "info = {'Iterations': [10,20,30,40,50,60,70,80,90,100],'Built-In': func_times, 'Power Iteration': our_times}\n",
    "\n",
    "print(tabulate(info, headers='keys', tablefmt='fancy_grid'))\n"
   ]
  },
  {
   "cell_type": "code",
   "execution_count": 10,
   "id": "c033e73f",
   "metadata": {},
   "outputs": [
    {
     "data": {
      "image/png": "[encoded data removed]",
      "text/plain": [
       "<Figure size 432x432 with 1 Axes>"
      ]
     },
     "metadata": {
      "needs_background": "light"
     },
     "output_type": "display_data"
    }
   ],
   "source": [
    "\n",
    "distances1 = []\n",
    "s1 = []\n",
    "\n",
    "dist_pi= [np.linalg.norm(np.abs(v) - np.abs(vtrue.transpose())) for v in pi_output[9]]\n",
    "distances1.append(dist_pi)\n",
    "s1.append('Power iteration')\n",
    "\n",
    "\n",
    "lplot(distances1,s1,'Distance to optimum')\n"
   ]
  }
 ],
 "metadata": {
  "kernelspec": {
   "display_name": "Python 3 (ipykernel)",
   "language": "python",
   "name": "python3"
  },
  "language_info": {
   "codemirror_mode": {
    "name": "ipython",
    "version": 3
   },
   "file_extension": ".py",
   "mimetype": "text/x-python",
   "name": "python",
   "nbconvert_exporter": "python",
   "pygments_lexer": "ipython3",
   "version": "3.9.7"
  }
 },
 "nbformat": 4,
 "nbformat_minor": 5
}
